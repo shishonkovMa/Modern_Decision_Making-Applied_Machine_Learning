{
 "cells": [
  {
   "cell_type": "markdown",
   "metadata": {},
   "source": [
    "# Your own recommender system"
   ]
  },
  {
   "cell_type": "markdown",
   "metadata": {},
   "source": [
    "In this task we will take a look at music recommendations.\n",
    "\n",
    "You will compare iALS with item-based recommendations and a simple bestsellers baseline by NDCG."
   ]
  },
  {
   "cell_type": "markdown",
   "metadata": {},
   "source": [
    "# Imports"
   ]
  },
  {
   "cell_type": "code",
   "execution_count": 1,
   "metadata": {},
   "outputs": [
    {
     "name": "stdout",
     "output_type": "stream",
     "text": [
      "env: OPENBLAS_NUM_THREADS=1\n"
     ]
    }
   ],
   "source": [
    "%config IPCompleter.greedy=True\n",
    "%env OPENBLAS_NUM_THREADS=1\n",
    "import pandas as pd\n",
    "import implicit\n",
    "from sklearn.model_selection import train_test_split\n",
    "import scipy.sparse as sps\n",
    "import numpy as np\n",
    "import matplotlib.pyplot as plt\n",
    "import tqdm\n",
    "\n",
    "from collections import defaultdict"
   ]
  },
  {
   "cell_type": "markdown",
   "metadata": {},
   "source": [
    "# Yandex.Music dataset"
   ]
  },
  {
   "cell_type": "markdown",
   "metadata": {},
   "source": [
    "# Loading dataset"
   ]
  },
  {
   "cell_type": "code",
   "execution_count": 2,
   "metadata": {},
   "outputs": [
    {
     "name": "stdout",
     "output_type": "stream",
     "text": [
      "artistId       int64\n",
      "artistName    object\n",
      "dtype: object\n"
     ]
    },
    {
     "data": {
      "text/html": [
       "<div>\n",
       "<style scoped>\n",
       "    .dataframe tbody tr th:only-of-type {\n",
       "        vertical-align: middle;\n",
       "    }\n",
       "\n",
       "    .dataframe tbody tr th {\n",
       "        vertical-align: top;\n",
       "    }\n",
       "\n",
       "    .dataframe thead th {\n",
       "        text-align: right;\n",
       "    }\n",
       "</style>\n",
       "<table border=\"1\" class=\"dataframe\">\n",
       "  <thead>\n",
       "    <tr style=\"text-align: right;\">\n",
       "      <th></th>\n",
       "      <th>artistId</th>\n",
       "      <th>artistName</th>\n",
       "    </tr>\n",
       "  </thead>\n",
       "  <tbody>\n",
       "    <tr>\n",
       "      <th>0</th>\n",
       "      <td>0</td>\n",
       "      <td>Mack Gordon</td>\n",
       "    </tr>\n",
       "    <tr>\n",
       "      <th>1</th>\n",
       "      <td>1</td>\n",
       "      <td>Kenny Dorham</td>\n",
       "    </tr>\n",
       "    <tr>\n",
       "      <th>2</th>\n",
       "      <td>2</td>\n",
       "      <td>Max Roach</td>\n",
       "    </tr>\n",
       "    <tr>\n",
       "      <th>3</th>\n",
       "      <td>3</td>\n",
       "      <td>Francis Rossi</td>\n",
       "    </tr>\n",
       "    <tr>\n",
       "      <th>4</th>\n",
       "      <td>4</td>\n",
       "      <td>Status Quo</td>\n",
       "    </tr>\n",
       "  </tbody>\n",
       "</table>\n",
       "</div>"
      ],
      "text/plain": [
       "   artistId     artistName\n",
       "0         0    Mack Gordon\n",
       "1         1   Kenny Dorham\n",
       "2         2      Max Roach\n",
       "3         3  Francis Rossi\n",
       "4         4     Status Quo"
      ]
     },
     "execution_count": 2,
     "metadata": {},
     "output_type": "execute_result"
    }
   ],
   "source": [
    "artists = pd.read_json(\"artists.jsonl\", orient='records', lines=True)\n",
    "print(artists.dtypes)\n",
    "artists.head(5)"
   ]
  },
  {
   "cell_type": "code",
   "execution_count": 3,
   "metadata": {},
   "outputs": [
    {
     "name": "stdout",
     "output_type": "stream",
     "text": [
      "userId      int64\n",
      "artistId    int64\n",
      "plays       int64\n",
      "skips       int64\n",
      "dtype: object\n"
     ]
    },
    {
     "data": {
      "text/html": [
       "<div>\n",
       "<style scoped>\n",
       "    .dataframe tbody tr th:only-of-type {\n",
       "        vertical-align: middle;\n",
       "    }\n",
       "\n",
       "    .dataframe tbody tr th {\n",
       "        vertical-align: top;\n",
       "    }\n",
       "\n",
       "    .dataframe thead th {\n",
       "        text-align: right;\n",
       "    }\n",
       "</style>\n",
       "<table border=\"1\" class=\"dataframe\">\n",
       "  <thead>\n",
       "    <tr style=\"text-align: right;\">\n",
       "      <th></th>\n",
       "      <th>userId</th>\n",
       "      <th>artistId</th>\n",
       "      <th>plays</th>\n",
       "      <th>skips</th>\n",
       "    </tr>\n",
       "  </thead>\n",
       "  <tbody>\n",
       "    <tr>\n",
       "      <th>0</th>\n",
       "      <td>0</td>\n",
       "      <td>335</td>\n",
       "      <td>1</td>\n",
       "      <td>0</td>\n",
       "    </tr>\n",
       "    <tr>\n",
       "      <th>1</th>\n",
       "      <td>0</td>\n",
       "      <td>708</td>\n",
       "      <td>1</td>\n",
       "      <td>0</td>\n",
       "    </tr>\n",
       "    <tr>\n",
       "      <th>2</th>\n",
       "      <td>0</td>\n",
       "      <td>710</td>\n",
       "      <td>2</td>\n",
       "      <td>1</td>\n",
       "    </tr>\n",
       "    <tr>\n",
       "      <th>3</th>\n",
       "      <td>0</td>\n",
       "      <td>815</td>\n",
       "      <td>1</td>\n",
       "      <td>1</td>\n",
       "    </tr>\n",
       "    <tr>\n",
       "      <th>4</th>\n",
       "      <td>0</td>\n",
       "      <td>880</td>\n",
       "      <td>1</td>\n",
       "      <td>1</td>\n",
       "    </tr>\n",
       "  </tbody>\n",
       "</table>\n",
       "</div>"
      ],
      "text/plain": [
       "   userId  artistId  plays  skips\n",
       "0       0       335      1      0\n",
       "1       0       708      1      0\n",
       "2       0       710      2      1\n",
       "3       0       815      1      1\n",
       "4       0       880      1      1"
      ]
     },
     "execution_count": 3,
     "metadata": {},
     "output_type": "execute_result"
    }
   ],
   "source": [
    "events = pd.read_csv(\"events.csv\")\n",
    "print(events.dtypes)\n",
    "events.head()"
   ]
  },
  {
   "cell_type": "code",
   "execution_count": 4,
   "metadata": {},
   "outputs": [
    {
     "name": "stdout",
     "output_type": "stream",
     "text": [
      "users: 4999\n",
      "items: 53031\n",
      "interactions: 3412504\n",
      "density: 0.012872420423252307\n"
     ]
    }
   ],
   "source": [
    "# statistics\n",
    "print(\"users:\", len(set(events.userId)))\n",
    "print(\"items:\", len(set(events.artistId)))\n",
    "print(\"interactions:\", len(events))\n",
    "print(\"density:\", len(events) / (len(set(events.userId)) * len(set(events.artistId))))"
   ]
  },
  {
   "cell_type": "code",
   "execution_count": 5,
   "metadata": {},
   "outputs": [
    {
     "data": {
      "text/html": [
       "<div>\n",
       "<style scoped>\n",
       "    .dataframe tbody tr th:only-of-type {\n",
       "        vertical-align: middle;\n",
       "    }\n",
       "\n",
       "    .dataframe tbody tr th {\n",
       "        vertical-align: top;\n",
       "    }\n",
       "\n",
       "    .dataframe thead th {\n",
       "        text-align: right;\n",
       "    }\n",
       "</style>\n",
       "<table border=\"1\" class=\"dataframe\">\n",
       "  <thead>\n",
       "    <tr style=\"text-align: right;\">\n",
       "      <th></th>\n",
       "      <th>plays</th>\n",
       "    </tr>\n",
       "    <tr>\n",
       "      <th>artistName</th>\n",
       "      <th></th>\n",
       "    </tr>\n",
       "  </thead>\n",
       "  <tbody>\n",
       "    <tr>\n",
       "      <th>Imagine Dragons</th>\n",
       "      <td>43447</td>\n",
       "    </tr>\n",
       "    <tr>\n",
       "      <th>Би-2</th>\n",
       "      <td>29415</td>\n",
       "    </tr>\n",
       "    <tr>\n",
       "      <th>Баста</th>\n",
       "      <td>27264</td>\n",
       "    </tr>\n",
       "    <tr>\n",
       "      <th>Ленинград</th>\n",
       "      <td>26311</td>\n",
       "    </tr>\n",
       "    <tr>\n",
       "      <th>Сплин</th>\n",
       "      <td>25062</td>\n",
       "    </tr>\n",
       "    <tr>\n",
       "      <th>Queen</th>\n",
       "      <td>24905</td>\n",
       "    </tr>\n",
       "    <tr>\n",
       "      <th>Sia</th>\n",
       "      <td>22803</td>\n",
       "    </tr>\n",
       "    <tr>\n",
       "      <th>LOBODA</th>\n",
       "      <td>21923</td>\n",
       "    </tr>\n",
       "    <tr>\n",
       "      <th>Noize MC</th>\n",
       "      <td>21774</td>\n",
       "    </tr>\n",
       "    <tr>\n",
       "      <th>Linkin Park</th>\n",
       "      <td>21584</td>\n",
       "    </tr>\n",
       "  </tbody>\n",
       "</table>\n",
       "</div>"
      ],
      "text/plain": [
       "                 plays\n",
       "artistName            \n",
       "Imagine Dragons  43447\n",
       "Би-2             29415\n",
       "Баста            27264\n",
       "Ленинград        26311\n",
       "Сплин            25062\n",
       "Queen            24905\n",
       "Sia              22803\n",
       "LOBODA           21923\n",
       "Noize MC         21774\n",
       "Linkin Park      21584"
      ]
     },
     "execution_count": 5,
     "metadata": {},
     "output_type": "execute_result"
    }
   ],
   "source": [
    "# most popular artists\n",
    "(\n",
    "    events\n",
    "    .merge(artists)[['artistName', 'plays']]\n",
    "    .groupby(\"artistName\").sum()\n",
    "    .sort_values('plays', ascending=False)\n",
    "    .head(10)\n",
    ")"
   ]
  },
  {
   "cell_type": "code",
   "execution_count": 6,
   "metadata": {},
   "outputs": [
    {
     "name": "stdout",
     "output_type": "stream",
     "text": [
      "(3241878, 4)\n",
      "(170626, 4)\n"
     ]
    }
   ],
   "source": [
    "# train / test split\n",
    "train, test = train_test_split(events, test_size=0.05, random_state=0)\n",
    "print(train.shape)\n",
    "print(test.shape)"
   ]
  },
  {
   "cell_type": "code",
   "execution_count": 7,
   "metadata": {},
   "outputs": [
    {
     "data": {
      "image/png": "[encoded data removed]",
      "text/plain": [
       "<Figure size 432x288 with 1 Axes>"
      ]
     },
     "metadata": {
      "needs_background": "light"
     },
     "output_type": "display_data"
    }
   ],
   "source": [
    "# number of artists per user in the test set\n",
    "_ = plt.hist(test.groupby('userId').count()['plays'], bins=100)"
   ]
  },
  {
   "cell_type": "markdown",
   "metadata": {},
   "source": [
    "# Train iALS\n",
    "\n",
    "Let's say that confidence is `1 + 10 * log2(plays + 1)`"
   ]
  },
  {
   "cell_type": "code",
   "execution_count": 8,
   "metadata": {},
   "outputs": [
    {
     "data": {
      "text/plain": [
       "<4999x70818 sparse matrix of type '<class 'numpy.float64'>'\n",
       "\twith 3241878 stored elements in Compressed Sparse Column format>"
      ]
     },
     "execution_count": 8,
     "metadata": {},
     "output_type": "execute_result"
    }
   ],
   "source": [
    "# prepare matrix for implicit library (https://implicit.readthedocs.io/en/latest/models.html)\n",
    "# item_user (sparse csr_matrix) of item/user/confidence\n",
    "# csc_matrix((data, (row_ind, col_ind)), [shape=(M, N)])\n",
    "#     where ``data``, ``row_ind`` and ``col_ind`` satisfy the\n",
    "#     relationship ``a[row_ind[k], col_ind[k]] = data[k]``.\n",
    "\n",
    "# item_user_train = sps.csc_matrix((1 + 10 * np.log2(train.plays + 1), (train.artistId, train.userId)))\n",
    "item_user_train = sps.csc_matrix((1 + 10 * np.log2(train.plays + 1), (train.userId, train.artistId)))\n",
    "item_user_train"
   ]
  },
  {
   "cell_type": "code",
   "execution_count": 9,
   "metadata": {},
   "outputs": [
    {
     "name": "stderr",
     "output_type": "stream",
     "text": [
      "/home/matu/.local/lib/python3.8/site-packages/implicit/utils.py:138: ParameterWarning: Method expects CSR input, and was passed csc_matrix instead. Converting to CSR took 0.14731836318969727 seconds\n",
      "  warnings.warn(\n",
      "Widget Javascript not detected.  It may not be installed or enabled properly.\n"
     ]
    },
    {
     "data": {
      "application/vnd.jupyter.widget-view+json": {
       "model_id": "0e0a75a6a0f54a47a08c16ba2dda6192"
      }
     },
     "metadata": {},
     "output_type": "display_data"
    },
    {
     "name": "stdout",
     "output_type": "stream",
     "text": [
      "\n",
      "CPU times: user 24.9 s, sys: 312 ms, total: 25.2 s\n",
      "Wall time: 8.74 s\n"
     ]
    }
   ],
   "source": [
    "%%time\n",
    "model = implicit.als.AlternatingLeastSquares(factors=32, iterations=10, random_state=0)\n",
    "model.fit(item_user_train)"
   ]
  },
  {
   "cell_type": "markdown",
   "metadata": {},
   "source": [
    "# Similar artists (via iALS)\n",
    "\n",
    "Let's find similar artists by cosine between their embeddings"
   ]
  },
  {
   "cell_type": "code",
   "execution_count": 10,
   "metadata": {},
   "outputs": [
    {
     "data": {
      "text/html": [
       "<div>\n",
       "<style scoped>\n",
       "    .dataframe tbody tr th:only-of-type {\n",
       "        vertical-align: middle;\n",
       "    }\n",
       "\n",
       "    .dataframe tbody tr th {\n",
       "        vertical-align: top;\n",
       "    }\n",
       "\n",
       "    .dataframe thead th {\n",
       "        text-align: right;\n",
       "    }\n",
       "</style>\n",
       "<table border=\"1\" class=\"dataframe\">\n",
       "  <thead>\n",
       "    <tr style=\"text-align: right;\">\n",
       "      <th></th>\n",
       "      <th>artistId</th>\n",
       "      <th>artistName</th>\n",
       "    </tr>\n",
       "  </thead>\n",
       "  <tbody>\n",
       "    <tr>\n",
       "      <th>404</th>\n",
       "      <td>404</td>\n",
       "      <td>Coldplay</td>\n",
       "    </tr>\n",
       "    <tr>\n",
       "      <th>647</th>\n",
       "      <td>647</td>\n",
       "      <td>50 Cent</td>\n",
       "    </tr>\n",
       "    <tr>\n",
       "      <th>33965</th>\n",
       "      <td>33965</td>\n",
       "      <td>AC/DC</td>\n",
       "    </tr>\n",
       "  </tbody>\n",
       "</table>\n",
       "</div>"
      ],
      "text/plain": [
       "       artistId artistName\n",
       "404         404   Coldplay\n",
       "647         647    50 Cent\n",
       "33965     33965      AC/DC"
      ]
     },
     "execution_count": 10,
     "metadata": {},
     "output_type": "execute_result"
    }
   ],
   "source": [
    "target_artists = artists[artists.artistName.isin(['Coldplay', '50 Cent', 'AC/DC'])]\n",
    "target_artists"
   ]
  },
  {
   "cell_type": "code",
   "execution_count": 12,
   "metadata": {},
   "outputs": [
    {
     "name": "stdout",
     "output_type": "stream",
     "text": [
      "############# Coldplay #############\n",
      "Coldplay 0.99999994\n",
      "Lana Del Rey 0.9883433\n",
      "OneRepublic 0.9833121\n",
      "Adele 0.97821623\n",
      "Maroon 5 0.9776448\n",
      "\n",
      "############# 50 Cent #############\n",
      "50 Cent 1.0000001\n",
      "Dr. Dre 0.9283223\n",
      "2Chainz 0.9078335\n",
      "Lil Jon 0.89781064\n",
      "Akon 0.8968771\n",
      "\n",
      "############# AC/DC #############\n",
      "AC/DC 0.99999994\n",
      "The Offspring 0.9538147\n",
      "Red Hot Chili Peppers 0.94771606\n",
      "Nirvana 0.94619846\n",
      "Metallica 0.94388753\n",
      "\n"
     ]
    }
   ],
   "source": [
    "artist_to_name = dict(zip(artists.artistId, artists.artistName))\n",
    "# for _, row in target_artists.iterrows():\n",
    "#     print(\"#############\", row.artistName, \"#############\")\n",
    "#     for a, s in model.similar_items(row.artistId, N=5):\n",
    "#         print(artist_to_name[a], \"\\t\", s)\n",
    "        \n",
    "for _, row in target_artists.iterrows():\n",
    "    print(\"#############\", row.artistName, \"#############\")\n",
    "    pairwise_cosine = (zip(*model.similar_items(row.artistId, N=5)))\n",
    "    for artist_id, cosine in pairwise_cosine:\n",
    "        print(artist_to_name[artist_id], cosine)\n",
    "    print()"
   ]
  },
  {
   "cell_type": "markdown",
   "metadata": {},
   "source": [
    "# NDCG metric"
   ]
  },
  {
   "cell_type": "code",
   "execution_count": 13,
   "metadata": {},
   "outputs": [],
   "source": [
    "from sklearn.metrics import ndcg_score"
   ]
  },
  {
   "cell_type": "code",
   "execution_count": 14,
   "metadata": {},
   "outputs": [
    {
     "name": "stdout",
     "output_type": "stream",
     "text": [
      "0.9502344167898358\n",
      "0.9502344167898358\n"
     ]
    }
   ],
   "source": [
    "# how ndcg works in sklearn (true scores are used without exponentiation)\n",
    "print(ndcg_score(y_true=[[  0,   0,   2,   1,   0]], \n",
    "                 y_score=[[0.2, 0.1, 0.5, 0.3, 0.4]]))\n",
    "print((2 / np.log(1 + 1) + 1 / np.log(3 + 1)) / \n",
    "      (2 / np.log(1 + 1) + 1 / np.log(2 + 1)))"
   ]
  },
  {
   "cell_type": "markdown",
   "metadata": {},
   "source": [
    "# NDCG for baseline\n",
    "\n",
    "__q1: Let's compute NDCG for non-personalized baseline on the test set.__\n",
    "\n",
    "Let's say that we rank test artists for each user by their global popularity (the sum of plays in the training dataset).\n",
    "\n",
    "_Make sure to compute NDCG only for users with at least 2 different artists in the test set._"
   ]
  },
  {
   "cell_type": "code",
   "execution_count": 30,
   "metadata": {},
   "outputs": [
    {
     "data": {
      "text/html": [
       "<div>\n",
       "<style scoped>\n",
       "    .dataframe tbody tr th:only-of-type {\n",
       "        vertical-align: middle;\n",
       "    }\n",
       "\n",
       "    .dataframe tbody tr th {\n",
       "        vertical-align: top;\n",
       "    }\n",
       "\n",
       "    .dataframe thead th {\n",
       "        text-align: right;\n",
       "    }\n",
       "</style>\n",
       "<table border=\"1\" class=\"dataframe\">\n",
       "  <thead>\n",
       "    <tr style=\"text-align: right;\">\n",
       "      <th></th>\n",
       "      <th>plays</th>\n",
       "    </tr>\n",
       "    <tr>\n",
       "      <th>artistName</th>\n",
       "      <th></th>\n",
       "    </tr>\n",
       "  </thead>\n",
       "  <tbody>\n",
       "    <tr>\n",
       "      <th>Imagine Dragons</th>\n",
       "      <td>41129</td>\n",
       "    </tr>\n",
       "    <tr>\n",
       "      <th>Би-2</th>\n",
       "      <td>27963</td>\n",
       "    </tr>\n",
       "    <tr>\n",
       "      <th>Баста</th>\n",
       "      <td>25958</td>\n",
       "    </tr>\n",
       "    <tr>\n",
       "      <th>Ленинград</th>\n",
       "      <td>24866</td>\n",
       "    </tr>\n",
       "    <tr>\n",
       "      <th>Queen</th>\n",
       "      <td>24055</td>\n",
       "    </tr>\n",
       "    <tr>\n",
       "      <th>Сплин</th>\n",
       "      <td>23205</td>\n",
       "    </tr>\n",
       "    <tr>\n",
       "      <th>Sia</th>\n",
       "      <td>21623</td>\n",
       "    </tr>\n",
       "    <tr>\n",
       "      <th>LOBODA</th>\n",
       "      <td>20972</td>\n",
       "    </tr>\n",
       "    <tr>\n",
       "      <th>Монеточка</th>\n",
       "      <td>20857</td>\n",
       "    </tr>\n",
       "    <tr>\n",
       "      <th>Linkin Park</th>\n",
       "      <td>20250</td>\n",
       "    </tr>\n",
       "  </tbody>\n",
       "</table>\n",
       "</div>"
      ],
      "text/plain": [
       "                 plays\n",
       "artistName            \n",
       "Imagine Dragons  41129\n",
       "Би-2             27963\n",
       "Баста            25958\n",
       "Ленинград        24866\n",
       "Queen            24055\n",
       "Сплин            23205\n",
       "Sia              21623\n",
       "LOBODA           20972\n",
       "Монеточка        20857\n",
       "Linkin Park      20250"
      ]
     },
     "metadata": {},
     "output_type": "display_data"
    }
   ],
   "source": [
    "# YOUR CODE HERE\n",
    "\n",
    "# global popularity (the sum of plays in the training dataset)\n",
    "sum_plays = (train\n",
    "             .merge(artists)[['artistName', 'plays']]\n",
    "             .groupby(\"artistName\").sum()\n",
    "             .sort_values('plays', ascending=False)\n",
    "             .head(10))\n",
    "display(sum_plays)\n",
    "\n",
    "# compute users with at least 2 different artists in the test set\n",
    "dda = {}\n",
    "for i, v in test.iterrows():\n",
    "    if int(v.userId) not in dda:\n",
    "        dda[v.userId] = set()\n",
    "    dda[v.userId].add(v.artistId)\n",
    "    \n",
    "lst_of_u_with_at_least_2 = []\n",
    "for k, v in dda.items():\n",
    "    if len(dda[k]) >= 2:\n",
    "        lst_of_u_with_at_least_2.append(k)\n",
    "\n"
   ]
  },
  {
   "cell_type": "code",
   "execution_count": 32,
   "metadata": {},
   "outputs": [
    {
     "ename": "TypeError",
     "evalue": "ndcg_score() missing 1 required positional argument: 'y_score'",
     "output_type": "error",
     "traceback": [
      "\u001b[0;31m---------------------------------------------------------------------------\u001b[0m",
      "\u001b[0;31mTypeError\u001b[0m                                 Traceback (most recent call last)",
      "\u001b[0;32m<ipython-input-32-2c4984a18657>\u001b[0m in \u001b[0;36m<module>\u001b[0;34m\u001b[0m\n\u001b[0;32m----> 1\u001b[0;31m \u001b[0mndcg_score\u001b[0m\u001b[0;34m(\u001b[0m\u001b[0mlst_of_u_with_at_least_2\u001b[0m\u001b[0;34m)\u001b[0m\u001b[0;34m\u001b[0m\u001b[0;34m\u001b[0m\u001b[0m\n\u001b[0m",
      "\u001b[0;31mTypeError\u001b[0m: ndcg_score() missing 1 required positional argument: 'y_score'"
     ]
    }
   ],
   "source": [
    "ndcg_score(y_true=[[  0,   0,   2,   1,   0]], \n",
    "           y_score=[[0.2, 0.1, 0.5, 0.3, 0.4]])"
   ]
  },
  {
   "cell_type": "markdown",
   "metadata": {},
   "source": [
    "# NDCG for iALS\n",
    "\n",
    "__q2: Now let's replace global popularity with iALS prediction for each user.__\n",
    "\n",
    "_Make sure to compute NDCG only for users with at least 2 different artists in the test set._"
   ]
  },
  {
   "cell_type": "code",
   "execution_count": null,
   "metadata": {},
   "outputs": [],
   "source": [
    "# prediction for user 100 and item 200 (a simple dot product):\n",
    "print(model.user_factors[100].dot(model.item_factors[200]))"
   ]
  },
  {
   "cell_type": "code",
   "execution_count": null,
   "metadata": {},
   "outputs": [],
   "source": [
    "# YOUR CODE HERE"
   ]
  },
  {
   "cell_type": "markdown",
   "metadata": {},
   "source": [
    "# Jaccard similarities\n",
    "\n",
    "Let's compute Jaccard similarities for pairs of artists in the training dataset. \n",
    "\n",
    "Here're some details:\n",
    "- Take into account only artists that the user has played at least 3 times (to cut off random plays).\n",
    "- Compute jacccard similarity only for pairs that have at least 50 common users (to get confident estimates).\n",
    "\n",
    "__q3: We will use it to recommend similar artists for users in the test set, but first let's find most similar artist to \"Maroon 5\" (other than \"Maroon 5\").__"
   ]
  },
  {
   "cell_type": "code",
   "execution_count": null,
   "metadata": {},
   "outputs": [],
   "source": [
    "# each user has less than N=1000 artists, so N^2 is not that big\n",
    "(\n",
    "    train[train.plays >= 3]\n",
    "    .groupby(\"userId\").count()\n",
    "    .sort_values(\"plays\", ascending=False)\n",
    "    .head(5)\n",
    ")"
   ]
  },
  {
   "cell_type": "code",
   "execution_count": null,
   "metadata": {},
   "outputs": [],
   "source": [
    "# YOUR CODE HERE"
   ]
  },
  {
   "cell_type": "markdown",
   "metadata": {},
   "source": [
    "# NDCG for item-based collaborative filtering (with Jaccard similarities)\n",
    "\n",
    "Let's compute our `prediction` for test `item` like follows:\n",
    "```python\n",
    "prediction = 0\n",
    "for history_item, history_plays in user_train_history:\n",
    "    prediction += jaccard[(history_item, item)] * history_plays\n",
    "```\n",
    "\n",
    "__q4: What NDCG do we have for item-based recommendations?__\n",
    "\n",
    "_Make sure to compute NDCG only for users with at least 2 different artists in the test set._"
   ]
  },
  {
   "cell_type": "code",
   "execution_count": null,
   "metadata": {},
   "outputs": [],
   "source": [
    "# YOUR CODE HERE"
   ]
  },
  {
   "cell_type": "code",
   "execution_count": null,
   "metadata": {},
   "outputs": [],
   "source": []
  }
 ],
 "metadata": {
  "coursera": {
   "schema_names": [
    "recsystask"
   ]
  },
  "kernelspec": {
   "display_name": "Python 3",
   "language": "python",
   "name": "python3"
  },
  "language_info": {
   "codemirror_mode": {
    "name": "ipython",
    "version": 3
   },
   "file_extension": ".py",
   "mimetype": "text/x-python",
   "name": "python",
   "nbconvert_exporter": "python",
   "pygments_lexer": "ipython3",
   "version": "3.8.10"
  }
 },
 "nbformat": 4,
 "nbformat_minor": 2
}
