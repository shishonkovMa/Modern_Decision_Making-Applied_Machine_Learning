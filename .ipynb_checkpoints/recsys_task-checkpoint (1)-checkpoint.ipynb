{
 "cells": [
  {
   "cell_type": "markdown",
   "metadata": {},
   "source": [
    "# Your own recommender system"
   ]
  },
  {
   "cell_type": "markdown",
   "metadata": {},
   "source": [
    "In this task we will take a look at music recommendations.\n",
    "\n",
    "You will compare iALS with item-based recommendations and a simple bestsellers baseline by NDCG."
   ]
  },
  {
   "cell_type": "markdown",
   "metadata": {},
   "source": [
    "# Imports"
   ]
  },
  {
   "cell_type": "code",
   "execution_count": 365,
   "metadata": {},
   "outputs": [],
   "source": [
    "import os\n",
    "os.environ[\"OMP_NUM_THREADS\"] = \"1\"\n",
    "os.environ[\"NUMEXPR_NUM_THREADS\"] = \"1\"\n",
    "os.environ[\"OMP_NUM_THREADS\"] = \"1\""
   ]
  },
  {
   "cell_type": "code",
   "execution_count": 366,
   "metadata": {},
   "outputs": [
    {
     "name": "stdout",
     "output_type": "stream",
     "text": [
      "env: OPENBLAS_NUM_THREADS=1\n"
     ]
    }
   ],
   "source": [
    "%config IPCompleter.greedy=True\n",
    "%env OPENBLAS_NUM_THREADS=1\n",
    "import pandas as pd\n",
    "import implicit\n",
    "from sklearn.model_selection import train_test_split\n",
    "import scipy.sparse as sps\n",
    "import numpy as np\n",
    "import matplotlib.pyplot as plt\n",
    "import tqdm\n",
    "from collections import defaultdict"
   ]
  },
  {
   "cell_type": "markdown",
   "metadata": {},
   "source": [
    "# Yandex.Music dataset"
   ]
  },
  {
   "cell_type": "markdown",
   "metadata": {},
   "source": [
    "# Loading dataset"
   ]
  },
  {
   "cell_type": "code",
   "execution_count": 367,
   "metadata": {},
   "outputs": [
    {
     "name": "stdout",
     "output_type": "stream",
     "text": [
      "artistId       int64\n",
      "artistName    object\n",
      "dtype: object\n"
     ]
    },
    {
     "data": {
      "text/html": [
       "<div>\n",
       "<style scoped>\n",
       "    .dataframe tbody tr th:only-of-type {\n",
       "        vertical-align: middle;\n",
       "    }\n",
       "\n",
       "    .dataframe tbody tr th {\n",
       "        vertical-align: top;\n",
       "    }\n",
       "\n",
       "    .dataframe thead th {\n",
       "        text-align: right;\n",
       "    }\n",
       "</style>\n",
       "<table border=\"1\" class=\"dataframe\">\n",
       "  <thead>\n",
       "    <tr style=\"text-align: right;\">\n",
       "      <th></th>\n",
       "      <th>artistId</th>\n",
       "      <th>artistName</th>\n",
       "    </tr>\n",
       "  </thead>\n",
       "  <tbody>\n",
       "    <tr>\n",
       "      <th>0</th>\n",
       "      <td>0</td>\n",
       "      <td>Mack Gordon</td>\n",
       "    </tr>\n",
       "    <tr>\n",
       "      <th>1</th>\n",
       "      <td>1</td>\n",
       "      <td>Kenny Dorham</td>\n",
       "    </tr>\n",
       "    <tr>\n",
       "      <th>2</th>\n",
       "      <td>2</td>\n",
       "      <td>Max Roach</td>\n",
       "    </tr>\n",
       "    <tr>\n",
       "      <th>3</th>\n",
       "      <td>3</td>\n",
       "      <td>Francis Rossi</td>\n",
       "    </tr>\n",
       "    <tr>\n",
       "      <th>4</th>\n",
       "      <td>4</td>\n",
       "      <td>Status Quo</td>\n",
       "    </tr>\n",
       "  </tbody>\n",
       "</table>\n",
       "</div>"
      ],
      "text/plain": [
       "   artistId     artistName\n",
       "0         0    Mack Gordon\n",
       "1         1   Kenny Dorham\n",
       "2         2      Max Roach\n",
       "3         3  Francis Rossi\n",
       "4         4     Status Quo"
      ]
     },
     "execution_count": 367,
     "metadata": {},
     "output_type": "execute_result"
    }
   ],
   "source": [
    "artists = pd.read_json(\"artists.jsonl\", orient='records', lines=True)\n",
    "print(artists.dtypes)\n",
    "artists.head(5)"
   ]
  },
  {
   "cell_type": "code",
   "execution_count": 368,
   "metadata": {},
   "outputs": [
    {
     "name": "stdout",
     "output_type": "stream",
     "text": [
      "userId      int64\n",
      "artistId    int64\n",
      "plays       int64\n",
      "skips       int64\n",
      "dtype: object\n"
     ]
    },
    {
     "data": {
      "text/html": [
       "<div>\n",
       "<style scoped>\n",
       "    .dataframe tbody tr th:only-of-type {\n",
       "        vertical-align: middle;\n",
       "    }\n",
       "\n",
       "    .dataframe tbody tr th {\n",
       "        vertical-align: top;\n",
       "    }\n",
       "\n",
       "    .dataframe thead th {\n",
       "        text-align: right;\n",
       "    }\n",
       "</style>\n",
       "<table border=\"1\" class=\"dataframe\">\n",
       "  <thead>\n",
       "    <tr style=\"text-align: right;\">\n",
       "      <th></th>\n",
       "      <th>userId</th>\n",
       "      <th>artistId</th>\n",
       "      <th>plays</th>\n",
       "      <th>skips</th>\n",
       "    </tr>\n",
       "  </thead>\n",
       "  <tbody>\n",
       "    <tr>\n",
       "      <th>0</th>\n",
       "      <td>0</td>\n",
       "      <td>335</td>\n",
       "      <td>1</td>\n",
       "      <td>0</td>\n",
       "    </tr>\n",
       "    <tr>\n",
       "      <th>1</th>\n",
       "      <td>0</td>\n",
       "      <td>708</td>\n",
       "      <td>1</td>\n",
       "      <td>0</td>\n",
       "    </tr>\n",
       "    <tr>\n",
       "      <th>2</th>\n",
       "      <td>0</td>\n",
       "      <td>710</td>\n",
       "      <td>2</td>\n",
       "      <td>1</td>\n",
       "    </tr>\n",
       "    <tr>\n",
       "      <th>3</th>\n",
       "      <td>0</td>\n",
       "      <td>815</td>\n",
       "      <td>1</td>\n",
       "      <td>1</td>\n",
       "    </tr>\n",
       "    <tr>\n",
       "      <th>4</th>\n",
       "      <td>0</td>\n",
       "      <td>880</td>\n",
       "      <td>1</td>\n",
       "      <td>1</td>\n",
       "    </tr>\n",
       "  </tbody>\n",
       "</table>\n",
       "</div>"
      ],
      "text/plain": [
       "   userId  artistId  plays  skips\n",
       "0       0       335      1      0\n",
       "1       0       708      1      0\n",
       "2       0       710      2      1\n",
       "3       0       815      1      1\n",
       "4       0       880      1      1"
      ]
     },
     "execution_count": 368,
     "metadata": {},
     "output_type": "execute_result"
    }
   ],
   "source": [
    "events = pd.read_csv(\"events.csv\")\n",
    "print(events.dtypes)\n",
    "events.head()"
   ]
  },
  {
   "cell_type": "code",
   "execution_count": 369,
   "metadata": {},
   "outputs": [
    {
     "name": "stdout",
     "output_type": "stream",
     "text": [
      "users: 4999\n",
      "items: 53031\n",
      "interactions: 3412504\n",
      "density: 0.012872420423252307\n"
     ]
    }
   ],
   "source": [
    "# statistics\n",
    "print(\"users:\", len(set(events.userId)))\n",
    "print(\"items:\", len(set(events.artistId)))\n",
    "print(\"interactions:\", len(events))\n",
    "print(\"density:\", len(events) / (len(set(events.userId)) * len(set(events.artistId))))"
   ]
  },
  {
   "cell_type": "code",
   "execution_count": 370,
   "metadata": {},
   "outputs": [
    {
     "data": {
      "text/html": [
       "<div>\n",
       "<style scoped>\n",
       "    .dataframe tbody tr th:only-of-type {\n",
       "        vertical-align: middle;\n",
       "    }\n",
       "\n",
       "    .dataframe tbody tr th {\n",
       "        vertical-align: top;\n",
       "    }\n",
       "\n",
       "    .dataframe thead th {\n",
       "        text-align: right;\n",
       "    }\n",
       "</style>\n",
       "<table border=\"1\" class=\"dataframe\">\n",
       "  <thead>\n",
       "    <tr style=\"text-align: right;\">\n",
       "      <th></th>\n",
       "      <th>plays</th>\n",
       "    </tr>\n",
       "    <tr>\n",
       "      <th>artistName</th>\n",
       "      <th></th>\n",
       "    </tr>\n",
       "  </thead>\n",
       "  <tbody>\n",
       "    <tr>\n",
       "      <th>Imagine Dragons</th>\n",
       "      <td>43447</td>\n",
       "    </tr>\n",
       "    <tr>\n",
       "      <th>Би-2</th>\n",
       "      <td>29415</td>\n",
       "    </tr>\n",
       "    <tr>\n",
       "      <th>Баста</th>\n",
       "      <td>27264</td>\n",
       "    </tr>\n",
       "    <tr>\n",
       "      <th>Ленинград</th>\n",
       "      <td>26311</td>\n",
       "    </tr>\n",
       "    <tr>\n",
       "      <th>Сплин</th>\n",
       "      <td>25062</td>\n",
       "    </tr>\n",
       "    <tr>\n",
       "      <th>Queen</th>\n",
       "      <td>24905</td>\n",
       "    </tr>\n",
       "    <tr>\n",
       "      <th>Sia</th>\n",
       "      <td>22803</td>\n",
       "    </tr>\n",
       "    <tr>\n",
       "      <th>LOBODA</th>\n",
       "      <td>21923</td>\n",
       "    </tr>\n",
       "    <tr>\n",
       "      <th>Noize MC</th>\n",
       "      <td>21774</td>\n",
       "    </tr>\n",
       "    <tr>\n",
       "      <th>Linkin Park</th>\n",
       "      <td>21584</td>\n",
       "    </tr>\n",
       "  </tbody>\n",
       "</table>\n",
       "</div>"
      ],
      "text/plain": [
       "                 plays\n",
       "artistName            \n",
       "Imagine Dragons  43447\n",
       "Би-2             29415\n",
       "Баста            27264\n",
       "Ленинград        26311\n",
       "Сплин            25062\n",
       "Queen            24905\n",
       "Sia              22803\n",
       "LOBODA           21923\n",
       "Noize MC         21774\n",
       "Linkin Park      21584"
      ]
     },
     "execution_count": 370,
     "metadata": {},
     "output_type": "execute_result"
    }
   ],
   "source": [
    "# most popular artists\n",
    "(\n",
    "    events\n",
    "    .merge(artists)[['artistName', 'plays']]\n",
    "    .groupby(\"artistName\").sum()\n",
    "    .sort_values('plays', ascending=False)\n",
    "    .head(10)\n",
    ")"
   ]
  },
  {
   "cell_type": "code",
   "execution_count": 371,
   "metadata": {},
   "outputs": [
    {
     "name": "stdout",
     "output_type": "stream",
     "text": [
      "(3241878, 4)\n",
      "(170626, 4)\n"
     ]
    }
   ],
   "source": [
    "# train / test split\n",
    "train, test = train_test_split(events, test_size=0.05, random_state=0)\n",
    "print(train.shape)\n",
    "print(test.shape)"
   ]
  },
  {
   "cell_type": "code",
   "execution_count": 372,
   "metadata": {},
   "outputs": [
    {
     "data": {
      "image/png": "[encoded data removed]",
      "text/plain": [
       "<Figure size 432x288 with 1 Axes>"
      ]
     },
     "metadata": {
      "needs_background": "light"
     },
     "output_type": "display_data"
    }
   ],
   "source": [
    "# number of artists per user in the test set\n",
    "_ = plt.hist(test.groupby('userId').count()['plays'], bins=100)"
   ]
  },
  {
   "cell_type": "markdown",
   "metadata": {},
   "source": [
    "# Train iALS\n",
    "\n",
    "Let's say that confidence is `1 + 10 * log2(plays + 1)`"
   ]
  },
  {
   "cell_type": "code",
   "execution_count": 373,
   "metadata": {},
   "outputs": [
    {
     "data": {
      "text/plain": [
       "<4999x70818 sparse matrix of type '<class 'numpy.float64'>'\n",
       "\twith 3241878 stored elements in Compressed Sparse Row format>"
      ]
     },
     "execution_count": 373,
     "metadata": {},
     "output_type": "execute_result"
    }
   ],
   "source": [
    "# prepare matrix for implicit library (https://implicit.readthedocs.io/en/latest/models.html)\n",
    "# item_user (sparse csr_matrix) of item/user/confidence\n",
    "# csc_matrix((data, (row_ind, col_ind)), [shape=(M, N)])\n",
    "#     where ``data``, ``row_ind`` and ``col_ind`` satisfy the\n",
    "#     relationship ``a[row_ind[k], col_ind[k]] = data[k]``.\n",
    "\n",
    "# item_user_train = sps.csc_matrix((1 + 10 * np.log2(train.plays + 1), (train.artistId, train.userId)))\n",
    "item_user_train = sps.csr_matrix((1 + 10 * np.log2(train.plays + 1), (train.userId, train.artistId)))\n",
    "item_user_train"
   ]
  },
  {
   "cell_type": "code",
   "execution_count": 374,
   "metadata": {},
   "outputs": [
    {
     "data": {
      "application/vnd.jupyter.widget-view+json": {
       "model_id": "9e8fdd5d14524e4c91b43a9c95baa351",
       "version_major": 2,
       "version_minor": 0
      },
      "text/plain": [
       "  0%|          | 0/10 [00:00<?, ?it/s]"
      ]
     },
     "metadata": {},
     "output_type": "display_data"
    },
    {
     "name": "stdout",
     "output_type": "stream",
     "text": [
      "CPU times: user 16.1 s, sys: 78.7 ms, total: 16.2 s\n",
      "Wall time: 16.4 s\n"
     ]
    }
   ],
   "source": [
    "%%time\n",
    "model = implicit.als.AlternatingLeastSquares(factors=32, iterations=10, random_state=0)\n",
    "model.fit(item_user_train)"
   ]
  },
  {
   "cell_type": "markdown",
   "metadata": {},
   "source": [
    "# Similar artists (via iALS)\n",
    "\n",
    "Let's find similar artists by cosine between their embeddings"
   ]
  },
  {
   "cell_type": "code",
   "execution_count": 375,
   "metadata": {},
   "outputs": [
    {
     "data": {
      "text/html": [
       "<div>\n",
       "<style scoped>\n",
       "    .dataframe tbody tr th:only-of-type {\n",
       "        vertical-align: middle;\n",
       "    }\n",
       "\n",
       "    .dataframe tbody tr th {\n",
       "        vertical-align: top;\n",
       "    }\n",
       "\n",
       "    .dataframe thead th {\n",
       "        text-align: right;\n",
       "    }\n",
       "</style>\n",
       "<table border=\"1\" class=\"dataframe\">\n",
       "  <thead>\n",
       "    <tr style=\"text-align: right;\">\n",
       "      <th></th>\n",
       "      <th>artistId</th>\n",
       "      <th>artistName</th>\n",
       "    </tr>\n",
       "  </thead>\n",
       "  <tbody>\n",
       "    <tr>\n",
       "      <th>404</th>\n",
       "      <td>404</td>\n",
       "      <td>Coldplay</td>\n",
       "    </tr>\n",
       "    <tr>\n",
       "      <th>647</th>\n",
       "      <td>647</td>\n",
       "      <td>50 Cent</td>\n",
       "    </tr>\n",
       "    <tr>\n",
       "      <th>33965</th>\n",
       "      <td>33965</td>\n",
       "      <td>AC/DC</td>\n",
       "    </tr>\n",
       "  </tbody>\n",
       "</table>\n",
       "</div>"
      ],
      "text/plain": [
       "       artistId artistName\n",
       "404         404   Coldplay\n",
       "647         647    50 Cent\n",
       "33965     33965      AC/DC"
      ]
     },
     "execution_count": 375,
     "metadata": {},
     "output_type": "execute_result"
    }
   ],
   "source": [
    "target_artists = artists[artists.artistName.isin(['Coldplay', '50 Cent', 'AC/DC'])]\n",
    "target_artists"
   ]
  },
  {
   "cell_type": "code",
   "execution_count": 376,
   "metadata": {},
   "outputs": [
    {
     "name": "stdout",
     "output_type": "stream",
     "text": [
      "############# Coldplay #############\n",
      "404\n",
      "Coldplay 0.99999994\n",
      "Lana Del Rey 0.9883556\n",
      "OneRepublic 0.9833105\n",
      "Adele 0.9782198\n",
      "Maroon 5 0.97765636\n",
      "############# 50 Cent #############\n",
      "647\n",
      "50 Cent 1.0\n",
      "Dr. Dre 0.92830014\n",
      "2Chainz 0.90787315\n",
      "Lil Jon 0.8978265\n",
      "Akon 0.8968366\n",
      "############# AC/DC #############\n",
      "33965\n",
      "AC/DC 1.0\n",
      "The Offspring 0.95381606\n",
      "Red Hot Chili Peppers 0.9477411\n",
      "Nirvana 0.94621986\n",
      "Metallica 0.94387364\n"
     ]
    }
   ],
   "source": [
    "artist_to_name = dict(zip(artists.artistId, artists.artistName))\n",
    "for _, row in target_artists.iterrows():\n",
    "    print(\"#############\", row.artistName, \"#############\")\n",
    "    print(row.artistId)\n",
    "    pairwise_cosine = (zip(*model.similar_items(row.artistId, N=5)))\n",
    "    for artist_id, cosine in pairwise_cosine:\n",
    "        print(artist_to_name[artist_id], cosine)"
   ]
  },
  {
   "cell_type": "code",
   "execution_count": 377,
   "metadata": {},
   "outputs": [],
   "source": [
    "# artist_to_name = dict(zip(artists.artistId, artists.artistName))\n",
    "# for _, row in target_artists.iterrows():\n",
    "#     print(\"#############\", row.artistName, \"#############\")\n",
    "#     for a, s in model.similar_items(row.artistId, N=5):\n",
    "#         print(a)\n",
    "#         print(artist_to_name[a], \"\\t\", s)"
   ]
  },
  {
   "cell_type": "markdown",
   "metadata": {},
   "source": [
    "# NDCG metric"
   ]
  },
  {
   "cell_type": "code",
   "execution_count": 378,
   "metadata": {},
   "outputs": [],
   "source": [
    "from sklearn.metrics import ndcg_score"
   ]
  },
  {
   "cell_type": "code",
   "execution_count": 379,
   "metadata": {},
   "outputs": [
    {
     "name": "stdout",
     "output_type": "stream",
     "text": [
      "0.9502344167898358\n",
      "0.9502344167898358\n"
     ]
    }
   ],
   "source": [
    "# how ndcg works in sklearn (true scores are used without exponentiation)\n",
    "print(ndcg_score(y_true=[[  0,   0,   2,   1,   0]], \n",
    "                 y_score=[[0.2, 0.1, 0.5, 0.3, 0.4]]))\n",
    "print((2 / np.log(1 + 1) + 1 / np.log(3 + 1)) / \n",
    "      (2 / np.log(1 + 1) + 1 / np.log(2 + 1)))"
   ]
  },
  {
   "cell_type": "markdown",
   "metadata": {},
   "source": [
    "# NDCG for baseline\n",
    "\n",
    "__q1: Let's compute NDCG for non-personalized baseline on the test set.__\n",
    "\n",
    "Let's say that we rank test artists for each user by their global popularity (the sum of plays in the training dataset).\n",
    "\n",
    "_Make sure to compute NDCG only for users with at least 2 different artists in the test set._"
   ]
  },
  {
   "cell_type": "code",
   "execution_count": 380,
   "metadata": {},
   "outputs": [],
   "source": [
    "# YOUR CODE HERE\n",
    "global_pop = train.groupby('artistId')['plays'].sum()  # artistdId --> sum_plays\n",
    "users = test.groupby('userId')['artistId'].nunique()\n",
    "users = users.loc[lambda x : x >= 2]  # sers in test with at least 2 artists.\n",
    "df = test.merge(global_pop.rename('global_pop'), how='inner', left_on='artistId', right_index=True)\n",
    "# df.sort_values(\"plays\", ascending=False, inplace=True)"
   ]
  },
  {
   "cell_type": "code",
   "execution_count": 381,
   "metadata": {},
   "outputs": [
    {
     "data": {
      "text/plain": [
       "4997"
      ]
     },
     "execution_count": 381,
     "metadata": {},
     "output_type": "execute_result"
    }
   ],
   "source": [
    "df['userId'].nunique()"
   ]
  },
  {
   "cell_type": "code",
   "execution_count": 382,
   "metadata": {},
   "outputs": [],
   "source": [
    "df = df.loc[df['userId'].isin(users.index)]"
   ]
  },
  {
   "cell_type": "code",
   "execution_count": 383,
   "metadata": {},
   "outputs": [
    {
     "data": {
      "text/plain": [
       "4994"
      ]
     },
     "execution_count": 383,
     "metadata": {},
     "output_type": "execute_result"
    }
   ],
   "source": [
    "df['userId'].nunique()"
   ]
  },
  {
   "cell_type": "code",
   "execution_count": 384,
   "metadata": {},
   "outputs": [],
   "source": [
    "ndcg =[]\n",
    "\n",
    "for user_id in users.index:\n",
    "    y_true = df[df.userId == user_id].plays.to_list()\n",
    "    y_score = df[df.userId == user_id].global_pop.to_list()\n",
    "    ndcg.append(ndcg_score(y_true=[y_true], y_score=[y_score]))"
   ]
  },
  {
   "cell_type": "code",
   "execution_count": 385,
   "metadata": {},
   "outputs": [
    {
     "data": {
      "text/plain": [
       "0.6612094115039636"
      ]
     },
     "execution_count": 385,
     "metadata": {},
     "output_type": "execute_result"
    }
   ],
   "source": [
    "np.mean(ndcg)"
   ]
  },
  {
   "cell_type": "markdown",
   "metadata": {},
   "source": [
    "# NDCG for iALS\n",
    "\n",
    "__q2: Now let's replace global popularity with iALS prediction for each user.__\n",
    "\n",
    "_Make sure to compute NDCG only for users with at least 2 different artists in the test set._"
   ]
  },
  {
   "cell_type": "code",
   "execution_count": 386,
   "metadata": {},
   "outputs": [
    {
     "name": "stdout",
     "output_type": "stream",
     "text": [
      "-0.00018411875\n"
     ]
    }
   ],
   "source": [
    "# prediction for user 100 and item 200 (a simple dot product):\n",
    "print(model.user_factors[100].dot(model.item_factors[200]))"
   ]
  },
  {
   "cell_type": "code",
   "execution_count": 387,
   "metadata": {},
   "outputs": [
    {
     "data": {
      "text/html": [
       "<div>\n",
       "<style scoped>\n",
       "    .dataframe tbody tr th:only-of-type {\n",
       "        vertical-align: middle;\n",
       "    }\n",
       "\n",
       "    .dataframe tbody tr th {\n",
       "        vertical-align: top;\n",
       "    }\n",
       "\n",
       "    .dataframe thead th {\n",
       "        text-align: right;\n",
       "    }\n",
       "</style>\n",
       "<table border=\"1\" class=\"dataframe\">\n",
       "  <thead>\n",
       "    <tr style=\"text-align: right;\">\n",
       "      <th></th>\n",
       "      <th>userId</th>\n",
       "      <th>artistId</th>\n",
       "      <th>plays</th>\n",
       "      <th>skips</th>\n",
       "      <th>global_pop</th>\n",
       "    </tr>\n",
       "  </thead>\n",
       "  <tbody>\n",
       "    <tr>\n",
       "      <th>569489</th>\n",
       "      <td>1257</td>\n",
       "      <td>69883</td>\n",
       "      <td>1117</td>\n",
       "      <td>71</td>\n",
       "      <td>312</td>\n",
       "    </tr>\n",
       "    <tr>\n",
       "      <th>689468</th>\n",
       "      <td>1525</td>\n",
       "      <td>23612</td>\n",
       "      <td>766</td>\n",
       "      <td>9</td>\n",
       "      <td>4641</td>\n",
       "    </tr>\n",
       "    <tr>\n",
       "      <th>1687826</th>\n",
       "      <td>3690</td>\n",
       "      <td>35389</td>\n",
       "      <td>414</td>\n",
       "      <td>73</td>\n",
       "      <td>317</td>\n",
       "    </tr>\n",
       "    <tr>\n",
       "      <th>676526</th>\n",
       "      <td>1497</td>\n",
       "      <td>70357</td>\n",
       "      <td>379</td>\n",
       "      <td>123</td>\n",
       "      <td>2337</td>\n",
       "    </tr>\n",
       "    <tr>\n",
       "      <th>2196715</th>\n",
       "      <td>4765</td>\n",
       "      <td>37891</td>\n",
       "      <td>368</td>\n",
       "      <td>0</td>\n",
       "      <td>1198</td>\n",
       "    </tr>\n",
       "    <tr>\n",
       "      <th>...</th>\n",
       "      <td>...</td>\n",
       "      <td>...</td>\n",
       "      <td>...</td>\n",
       "      <td>...</td>\n",
       "      <td>...</td>\n",
       "    </tr>\n",
       "    <tr>\n",
       "      <th>2549524</th>\n",
       "      <td>1097</td>\n",
       "      <td>4049</td>\n",
       "      <td>0</td>\n",
       "      <td>1</td>\n",
       "      <td>2149</td>\n",
       "    </tr>\n",
       "    <tr>\n",
       "      <th>2649136</th>\n",
       "      <td>1565</td>\n",
       "      <td>4049</td>\n",
       "      <td>0</td>\n",
       "      <td>1</td>\n",
       "      <td>2149</td>\n",
       "    </tr>\n",
       "    <tr>\n",
       "      <th>2580978</th>\n",
       "      <td>1233</td>\n",
       "      <td>4049</td>\n",
       "      <td>0</td>\n",
       "      <td>1</td>\n",
       "      <td>2149</td>\n",
       "    </tr>\n",
       "    <tr>\n",
       "      <th>3248054</th>\n",
       "      <td>4222</td>\n",
       "      <td>4049</td>\n",
       "      <td>0</td>\n",
       "      <td>4</td>\n",
       "      <td>2149</td>\n",
       "    </tr>\n",
       "    <tr>\n",
       "      <th>3240956</th>\n",
       "      <td>4192</td>\n",
       "      <td>44105</td>\n",
       "      <td>0</td>\n",
       "      <td>1</td>\n",
       "      <td>41</td>\n",
       "    </tr>\n",
       "  </tbody>\n",
       "</table>\n",
       "<p>170239 rows × 5 columns</p>\n",
       "</div>"
      ],
      "text/plain": [
       "         userId  artistId  plays  skips  global_pop\n",
       "569489     1257     69883   1117     71         312\n",
       "689468     1525     23612    766      9        4641\n",
       "1687826    3690     35389    414     73         317\n",
       "676526     1497     70357    379    123        2337\n",
       "2196715    4765     37891    368      0        1198\n",
       "...         ...       ...    ...    ...         ...\n",
       "2549524    1097      4049      0      1        2149\n",
       "2649136    1565      4049      0      1        2149\n",
       "2580978    1233      4049      0      1        2149\n",
       "3248054    4222      4049      0      4        2149\n",
       "3240956    4192     44105      0      1          41\n",
       "\n",
       "[170239 rows x 5 columns]"
      ]
     },
     "execution_count": 387,
     "metadata": {},
     "output_type": "execute_result"
    }
   ],
   "source": [
    "df"
   ]
  },
  {
   "cell_type": "code",
   "execution_count": 388,
   "metadata": {},
   "outputs": [],
   "source": [
    "# YOUR CODE HERE\n",
    "ials_pop = []\n",
    "for _, row in df.iterrows():\n",
    "    user_id = int(row['userId'])\n",
    "    artist_id = int(row['artistId'])\n",
    "    pop = model.user_factors[user_id].dot(model.item_factors[artist_id])\n",
    "    ials_pop.append(pop)\n",
    "    "
   ]
  },
  {
   "cell_type": "code",
   "execution_count": 389,
   "metadata": {},
   "outputs": [],
   "source": [
    "df['ials_pop'] = ials_pop"
   ]
  },
  {
   "cell_type": "code",
   "execution_count": 390,
   "metadata": {},
   "outputs": [
    {
     "data": {
      "text/html": [
       "<div>\n",
       "<style scoped>\n",
       "    .dataframe tbody tr th:only-of-type {\n",
       "        vertical-align: middle;\n",
       "    }\n",
       "\n",
       "    .dataframe tbody tr th {\n",
       "        vertical-align: top;\n",
       "    }\n",
       "\n",
       "    .dataframe thead th {\n",
       "        text-align: right;\n",
       "    }\n",
       "</style>\n",
       "<table border=\"1\" class=\"dataframe\">\n",
       "  <thead>\n",
       "    <tr style=\"text-align: right;\">\n",
       "      <th></th>\n",
       "      <th>userId</th>\n",
       "      <th>artistId</th>\n",
       "      <th>plays</th>\n",
       "      <th>skips</th>\n",
       "      <th>global_pop</th>\n",
       "      <th>ials_pop</th>\n",
       "    </tr>\n",
       "  </thead>\n",
       "  <tbody>\n",
       "    <tr>\n",
       "      <th>569489</th>\n",
       "      <td>1257</td>\n",
       "      <td>69883</td>\n",
       "      <td>1117</td>\n",
       "      <td>71</td>\n",
       "      <td>312</td>\n",
       "      <td>0.621763</td>\n",
       "    </tr>\n",
       "    <tr>\n",
       "      <th>689468</th>\n",
       "      <td>1525</td>\n",
       "      <td>23612</td>\n",
       "      <td>766</td>\n",
       "      <td>9</td>\n",
       "      <td>4641</td>\n",
       "      <td>1.106542</td>\n",
       "    </tr>\n",
       "    <tr>\n",
       "      <th>1687826</th>\n",
       "      <td>3690</td>\n",
       "      <td>35389</td>\n",
       "      <td>414</td>\n",
       "      <td>73</td>\n",
       "      <td>317</td>\n",
       "      <td>0.596063</td>\n",
       "    </tr>\n",
       "    <tr>\n",
       "      <th>676526</th>\n",
       "      <td>1497</td>\n",
       "      <td>70357</td>\n",
       "      <td>379</td>\n",
       "      <td>123</td>\n",
       "      <td>2337</td>\n",
       "      <td>1.179524</td>\n",
       "    </tr>\n",
       "    <tr>\n",
       "      <th>2196715</th>\n",
       "      <td>4765</td>\n",
       "      <td>37891</td>\n",
       "      <td>368</td>\n",
       "      <td>0</td>\n",
       "      <td>1198</td>\n",
       "      <td>0.676183</td>\n",
       "    </tr>\n",
       "    <tr>\n",
       "      <th>...</th>\n",
       "      <td>...</td>\n",
       "      <td>...</td>\n",
       "      <td>...</td>\n",
       "      <td>...</td>\n",
       "      <td>...</td>\n",
       "      <td>...</td>\n",
       "    </tr>\n",
       "    <tr>\n",
       "      <th>2549524</th>\n",
       "      <td>1097</td>\n",
       "      <td>4049</td>\n",
       "      <td>0</td>\n",
       "      <td>1</td>\n",
       "      <td>2149</td>\n",
       "      <td>0.594028</td>\n",
       "    </tr>\n",
       "    <tr>\n",
       "      <th>2649136</th>\n",
       "      <td>1565</td>\n",
       "      <td>4049</td>\n",
       "      <td>0</td>\n",
       "      <td>1</td>\n",
       "      <td>2149</td>\n",
       "      <td>0.304219</td>\n",
       "    </tr>\n",
       "    <tr>\n",
       "      <th>2580978</th>\n",
       "      <td>1233</td>\n",
       "      <td>4049</td>\n",
       "      <td>0</td>\n",
       "      <td>1</td>\n",
       "      <td>2149</td>\n",
       "      <td>0.404207</td>\n",
       "    </tr>\n",
       "    <tr>\n",
       "      <th>3248054</th>\n",
       "      <td>4222</td>\n",
       "      <td>4049</td>\n",
       "      <td>0</td>\n",
       "      <td>4</td>\n",
       "      <td>2149</td>\n",
       "      <td>0.933743</td>\n",
       "    </tr>\n",
       "    <tr>\n",
       "      <th>3240956</th>\n",
       "      <td>4192</td>\n",
       "      <td>44105</td>\n",
       "      <td>0</td>\n",
       "      <td>1</td>\n",
       "      <td>41</td>\n",
       "      <td>0.200589</td>\n",
       "    </tr>\n",
       "  </tbody>\n",
       "</table>\n",
       "<p>170239 rows × 6 columns</p>\n",
       "</div>"
      ],
      "text/plain": [
       "         userId  artistId  plays  skips  global_pop  ials_pop\n",
       "569489     1257     69883   1117     71         312  0.621763\n",
       "689468     1525     23612    766      9        4641  1.106542\n",
       "1687826    3690     35389    414     73         317  0.596063\n",
       "676526     1497     70357    379    123        2337  1.179524\n",
       "2196715    4765     37891    368      0        1198  0.676183\n",
       "...         ...       ...    ...    ...         ...       ...\n",
       "2549524    1097      4049      0      1        2149  0.594028\n",
       "2649136    1565      4049      0      1        2149  0.304219\n",
       "2580978    1233      4049      0      1        2149  0.404207\n",
       "3248054    4222      4049      0      4        2149  0.933743\n",
       "3240956    4192     44105      0      1          41  0.200589\n",
       "\n",
       "[170239 rows x 6 columns]"
      ]
     },
     "execution_count": 390,
     "metadata": {},
     "output_type": "execute_result"
    }
   ],
   "source": [
    "df"
   ]
  },
  {
   "cell_type": "code",
   "execution_count": 391,
   "metadata": {},
   "outputs": [],
   "source": [
    "ndcg =[]\n",
    "\n",
    "for user_id in users.index:\n",
    "    y_true = df[df.userId == user_id].plays.to_list()\n",
    "    y_score = df[df.userId == user_id].ials_pop.to_list()\n",
    "    ndcg.append(ndcg_score(y_true=[y_true], y_score=[y_score]))"
   ]
  },
  {
   "cell_type": "code",
   "execution_count": 392,
   "metadata": {},
   "outputs": [
    {
     "data": {
      "text/plain": [
       "0.7096174535061077"
      ]
     },
     "execution_count": 392,
     "metadata": {},
     "output_type": "execute_result"
    }
   ],
   "source": [
    "np.mean(ndcg)"
   ]
  },
  {
   "cell_type": "markdown",
   "metadata": {},
   "source": [
    "# Jaccard similarities\n",
    "\n",
    "Let's compute Jaccard similarities for pairs of artists in the training dataset. \n",
    "\n",
    "Here're some details:\n",
    "- Take into account only artists that the user has played at least 3 times (to cut off random plays).\n",
    "- Compute jacccard similarity only for pairs that have at least 50 common users (to get confident estimates).\n",
    "\n",
    "__q3: We will use it to recommend similar artists for users in the test set, but first let's find most similar artist to \"Maroon 5\" (other than \"Maroon 5\").__"
   ]
  },
  {
   "cell_type": "code",
   "execution_count": 393,
   "metadata": {},
   "outputs": [
    {
     "data": {
      "text/html": [
       "<div>\n",
       "<style scoped>\n",
       "    .dataframe tbody tr th:only-of-type {\n",
       "        vertical-align: middle;\n",
       "    }\n",
       "\n",
       "    .dataframe tbody tr th {\n",
       "        vertical-align: top;\n",
       "    }\n",
       "\n",
       "    .dataframe thead th {\n",
       "        text-align: right;\n",
       "    }\n",
       "</style>\n",
       "<table border=\"1\" class=\"dataframe\">\n",
       "  <thead>\n",
       "    <tr style=\"text-align: right;\">\n",
       "      <th></th>\n",
       "      <th>artistId</th>\n",
       "      <th>plays</th>\n",
       "      <th>skips</th>\n",
       "    </tr>\n",
       "    <tr>\n",
       "      <th>userId</th>\n",
       "      <th></th>\n",
       "      <th></th>\n",
       "      <th></th>\n",
       "    </tr>\n",
       "  </thead>\n",
       "  <tbody>\n",
       "    <tr>\n",
       "      <th>4689</th>\n",
       "      <td>614</td>\n",
       "      <td>614</td>\n",
       "      <td>614</td>\n",
       "    </tr>\n",
       "    <tr>\n",
       "      <th>4575</th>\n",
       "      <td>550</td>\n",
       "      <td>550</td>\n",
       "      <td>550</td>\n",
       "    </tr>\n",
       "    <tr>\n",
       "      <th>3121</th>\n",
       "      <td>548</td>\n",
       "      <td>548</td>\n",
       "      <td>548</td>\n",
       "    </tr>\n",
       "    <tr>\n",
       "      <th>2266</th>\n",
       "      <td>497</td>\n",
       "      <td>497</td>\n",
       "      <td>497</td>\n",
       "    </tr>\n",
       "    <tr>\n",
       "      <th>1168</th>\n",
       "      <td>479</td>\n",
       "      <td>479</td>\n",
       "      <td>479</td>\n",
       "    </tr>\n",
       "  </tbody>\n",
       "</table>\n",
       "</div>"
      ],
      "text/plain": [
       "        artistId  plays  skips\n",
       "userId                        \n",
       "4689         614    614    614\n",
       "4575         550    550    550\n",
       "3121         548    548    548\n",
       "2266         497    497    497\n",
       "1168         479    479    479"
      ]
     },
     "execution_count": 393,
     "metadata": {},
     "output_type": "execute_result"
    }
   ],
   "source": [
    "# each user has less than N=1000 artists, so N^2 is not that big\n",
    "(\n",
    "    train[train.plays >= 3]\n",
    "    .groupby(\"userId\").count()\n",
    "    .sort_values(\"plays\", ascending=False)\n",
    "    .head(5)\n",
    ")"
   ]
  },
  {
   "cell_type": "code",
   "execution_count": 394,
   "metadata": {},
   "outputs": [
    {
     "data": {
      "text/plain": [
       "array([ 3818, 36307, 32659, ..., 66367, 20040, 26708])"
      ]
     },
     "execution_count": 394,
     "metadata": {},
     "output_type": "execute_result"
    }
   ],
   "source": [
    "# YOUR CODE HERE\n",
    "df_train = train[train.plays >= 3]\n",
    "target_artists = df_train.artistId.unique()\n",
    "target_artists"
   ]
  },
  {
   "cell_type": "code",
   "execution_count": 395,
   "metadata": {},
   "outputs": [],
   "source": [
    "target_artist_to_users = {id: set(df_train[df_train['artistId'] == id]['userId'].values)\n",
    "                          for id in target_artists}"
   ]
  },
  {
   "cell_type": "code",
   "execution_count": 396,
   "metadata": {},
   "outputs": [
    {
     "name": "stderr",
     "output_type": "stream",
     "text": [
      "100%|█████████████████████████████████████████████████████████████████████████████████████████████████████████████████████████████████| 28435/28435 [05:04<00:00, 93.31it/s]\n"
     ]
    }
   ],
   "source": [
    "from tqdm import tqdm\n",
    "\n",
    "\n",
    "jaccard_pair = dict()\n",
    "jaccard = dict()\n",
    "seen = set()\n",
    "\n",
    "for i in tqdm(range(len(target_artists))):\n",
    "    for j in range(i + 1, len(target_artists)):\n",
    "        \n",
    "        artist_1 = target_artists[i]\n",
    "        artist_2 = target_artists[j]\n",
    "        \n",
    "        if  artist_1 != artist_2 and (pair not in jaccard_pair):\n",
    "            \n",
    "            artist_1_users = target_artist_to_users[artist_1]\n",
    "            artist_2_users = target_artist_to_users[artist_2]\n",
    "            \n",
    "            l_intersect = len(artist_1_users & artist_2_users)\n",
    "            \n",
    "            if l_intersect >= 50:\n",
    "                similarity = l_intersect / (len(artist_1_users) + len(artist_2_users) - l_intersect)\n",
    "                \n",
    "                jaccard_pair[(artist_1, artist_2)] = similarity\n",
    "                jaccard_pair[(artist_2, artist_1)] = similarity\n",
    "                \n",
    "                jaccard.setdefault(artist_1, []).append((artist_2, similarity))\n",
    "                jaccard.setdefault(artist_2, []).append((artist_1, similarity))\n"
   ]
  },
  {
   "cell_type": "code",
   "execution_count": 397,
   "metadata": {},
   "outputs": [
    {
     "data": {
      "text/plain": [
       "14803"
      ]
     },
     "execution_count": 397,
     "metadata": {},
     "output_type": "execute_result"
    }
   ],
   "source": [
    "maroon5_id = artists[artists.artistName == 'Maroon 5']['artistId'].values[0]\n",
    "maroon5_id"
   ]
  },
  {
   "cell_type": "code",
   "execution_count": 398,
   "metadata": {},
   "outputs": [
    {
     "data": {
      "text/plain": [
       "(3568, 0.3138075313807531)"
      ]
     },
     "execution_count": 398,
     "metadata": {},
     "output_type": "execute_result"
    }
   ],
   "source": [
    "max_similarity = max(jaccard[maroon5_id], key=lambda tup: tup[1])\n",
    "max_similarity\n"
   ]
  },
  {
   "cell_type": "code",
   "execution_count": 399,
   "metadata": {},
   "outputs": [
    {
     "data": {
      "text/html": [
       "<div>\n",
       "<style scoped>\n",
       "    .dataframe tbody tr th:only-of-type {\n",
       "        vertical-align: middle;\n",
       "    }\n",
       "\n",
       "    .dataframe tbody tr th {\n",
       "        vertical-align: top;\n",
       "    }\n",
       "\n",
       "    .dataframe thead th {\n",
       "        text-align: right;\n",
       "    }\n",
       "</style>\n",
       "<table border=\"1\" class=\"dataframe\">\n",
       "  <thead>\n",
       "    <tr style=\"text-align: right;\">\n",
       "      <th></th>\n",
       "      <th>artistId</th>\n",
       "      <th>artistName</th>\n",
       "    </tr>\n",
       "  </thead>\n",
       "  <tbody>\n",
       "    <tr>\n",
       "      <th>3568</th>\n",
       "      <td>3568</td>\n",
       "      <td>OneRepublic</td>\n",
       "    </tr>\n",
       "  </tbody>\n",
       "</table>\n",
       "</div>"
      ],
      "text/plain": [
       "      artistId   artistName\n",
       "3568      3568  OneRepublic"
      ]
     },
     "execution_count": 399,
     "metadata": {},
     "output_type": "execute_result"
    }
   ],
   "source": [
    "artists[artists.artistId == max_similarity[0]]"
   ]
  },
  {
   "cell_type": "markdown",
   "metadata": {},
   "source": [
    "# NDCG for item-based collaborative filtering (with Jaccard similarities)\n",
    "\n",
    "Let's compute our `prediction` for test `item` like follows:\n",
    "```python\n",
    "prediction = 0\n",
    "for history_item, history_plays in user_train_history:\n",
    "    prediction += jaccard[(history_item, item)] * history_plays\n",
    "```\n",
    "\n",
    "__q4: What NDCG do we have for item-based recommendations?__\n",
    "\n",
    "_Make sure to compute NDCG only for users with at least 2 different artists in the test set._"
   ]
  },
  {
   "cell_type": "code",
   "execution_count": 400,
   "metadata": {},
   "outputs": [
    {
     "data": {
      "text/html": [
       "<div>\n",
       "<style scoped>\n",
       "    .dataframe tbody tr th:only-of-type {\n",
       "        vertical-align: middle;\n",
       "    }\n",
       "\n",
       "    .dataframe tbody tr th {\n",
       "        vertical-align: top;\n",
       "    }\n",
       "\n",
       "    .dataframe thead th {\n",
       "        text-align: right;\n",
       "    }\n",
       "</style>\n",
       "<table border=\"1\" class=\"dataframe\">\n",
       "  <thead>\n",
       "    <tr style=\"text-align: right;\">\n",
       "      <th></th>\n",
       "      <th>userId</th>\n",
       "      <th>artistId</th>\n",
       "      <th>plays</th>\n",
       "      <th>skips</th>\n",
       "    </tr>\n",
       "  </thead>\n",
       "  <tbody>\n",
       "    <tr>\n",
       "      <th>564228</th>\n",
       "      <td>1244</td>\n",
       "      <td>47785</td>\n",
       "      <td>1</td>\n",
       "      <td>0</td>\n",
       "    </tr>\n",
       "    <tr>\n",
       "      <th>3388837</th>\n",
       "      <td>4881</td>\n",
       "      <td>15996</td>\n",
       "      <td>0</td>\n",
       "      <td>1</td>\n",
       "    </tr>\n",
       "    <tr>\n",
       "      <th>676253</th>\n",
       "      <td>1496</td>\n",
       "      <td>63240</td>\n",
       "      <td>6</td>\n",
       "      <td>5</td>\n",
       "    </tr>\n",
       "    <tr>\n",
       "      <th>549629</th>\n",
       "      <td>1211</td>\n",
       "      <td>1120</td>\n",
       "      <td>6</td>\n",
       "      <td>3</td>\n",
       "    </tr>\n",
       "    <tr>\n",
       "      <th>503021</th>\n",
       "      <td>1105</td>\n",
       "      <td>7636</td>\n",
       "      <td>1</td>\n",
       "      <td>0</td>\n",
       "    </tr>\n",
       "    <tr>\n",
       "      <th>...</th>\n",
       "      <td>...</td>\n",
       "      <td>...</td>\n",
       "      <td>...</td>\n",
       "      <td>...</td>\n",
       "    </tr>\n",
       "    <tr>\n",
       "      <th>3148855</th>\n",
       "      <td>3790</td>\n",
       "      <td>20291</td>\n",
       "      <td>0</td>\n",
       "      <td>1</td>\n",
       "    </tr>\n",
       "    <tr>\n",
       "      <th>1352451</th>\n",
       "      <td>2962</td>\n",
       "      <td>38645</td>\n",
       "      <td>1</td>\n",
       "      <td>0</td>\n",
       "    </tr>\n",
       "    <tr>\n",
       "      <th>2820055</th>\n",
       "      <td>2357</td>\n",
       "      <td>23579</td>\n",
       "      <td>0</td>\n",
       "      <td>4</td>\n",
       "    </tr>\n",
       "    <tr>\n",
       "      <th>2929571</th>\n",
       "      <td>2814</td>\n",
       "      <td>36773</td>\n",
       "      <td>0</td>\n",
       "      <td>2</td>\n",
       "    </tr>\n",
       "    <tr>\n",
       "      <th>2257451</th>\n",
       "      <td>4906</td>\n",
       "      <td>23242</td>\n",
       "      <td>1</td>\n",
       "      <td>0</td>\n",
       "    </tr>\n",
       "  </tbody>\n",
       "</table>\n",
       "<p>170626 rows × 4 columns</p>\n",
       "</div>"
      ],
      "text/plain": [
       "         userId  artistId  plays  skips\n",
       "564228     1244     47785      1      0\n",
       "3388837    4881     15996      0      1\n",
       "676253     1496     63240      6      5\n",
       "549629     1211      1120      6      3\n",
       "503021     1105      7636      1      0\n",
       "...         ...       ...    ...    ...\n",
       "3148855    3790     20291      0      1\n",
       "1352451    2962     38645      1      0\n",
       "2820055    2357     23579      0      4\n",
       "2929571    2814     36773      0      2\n",
       "2257451    4906     23242      1      0\n",
       "\n",
       "[170626 rows x 4 columns]"
      ]
     },
     "execution_count": 400,
     "metadata": {},
     "output_type": "execute_result"
    }
   ],
   "source": [
    "test"
   ]
  },
  {
   "cell_type": "code",
   "execution_count": 401,
   "metadata": {},
   "outputs": [],
   "source": [
    "train_history = dict()\n",
    "for uid in train.userId.unique():\n",
    "    train_history[uid] = list(train[train.userId == uid][['artistId', 'plays']].itertuples(index=False, name=None))"
   ]
  },
  {
   "cell_type": "code",
   "execution_count": 402,
   "metadata": {
    "scrolled": true
   },
   "outputs": [],
   "source": [
    "preds = []\n",
    "\n",
    "for _, row_test in df.iterrows():\n",
    "    \n",
    "    user_id = int(row_test['userId'])\n",
    "    \n",
    "    item = int(row_test['artistId'])\n",
    "\n",
    "    prediction = 0\n",
    "\n",
    "    for history_item, history_plays in train_history[user_id]:\n",
    "\n",
    "        if (item, history_item) in jaccard_pair:\n",
    "            prediction += jaccard_pair[(item, history_item)] * history_plays\n",
    "\n",
    "    preds.append(prediction)\n",
    "\n",
    "\n",
    "df['item_pred'] = preds\n"
   ]
  },
  {
   "cell_type": "code",
   "execution_count": 403,
   "metadata": {},
   "outputs": [],
   "source": [
    "ndcg = []\n",
    "\n",
    "for user_id in users.index:\n",
    "    y_true = df[df.userId == user_id].plays.to_list()\n",
    "    y_score = df[df.userId == user_id].item_pred.to_list()\n",
    "    ndcg.append(ndcg_score(y_true=[y_true], y_score=[y_score]))"
   ]
  },
  {
   "cell_type": "code",
   "execution_count": 404,
   "metadata": {},
   "outputs": [
    {
     "data": {
      "text/plain": [
       "0.6977879311100313"
      ]
     },
     "execution_count": 404,
     "metadata": {},
     "output_type": "execute_result"
    }
   ],
   "source": [
    "np.mean(ndcg)"
   ]
  },
  {
   "cell_type": "code",
   "execution_count": null,
   "metadata": {},
   "outputs": [],
   "source": []
  }
 ],
 "metadata": {
  "coursera": {
   "schema_names": [
    "recsystask"
   ]
  },
  "kernelspec": {
   "display_name": "Python 3",
   "language": "python",
   "name": "python3"
  },
  "language_info": {
   "codemirror_mode": {
    "name": "ipython",
    "version": 3
   },
   "file_extension": ".py",
   "mimetype": "text/x-python",
   "name": "python",
   "nbconvert_exporter": "python",
   "pygments_lexer": "ipython3",
   "version": "3.8.10"
  }
 },
 "nbformat": 4,
 "nbformat_minor": 2
}
